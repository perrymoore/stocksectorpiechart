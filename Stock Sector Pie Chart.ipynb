{
 "cells": [
  {
   "cell_type": "code",
   "execution_count": 1,
   "metadata": {},
   "outputs": [
    {
     "name": "stdout",
     "output_type": "stream",
     "text": [
      "How many different stocks do you have?: 4\n",
      "Enter ticker here: v\n",
      "Enter ticker here: msft\n",
      "Enter ticker here: ba\n",
      "Enter ticker here: aapl\n"
     ]
    }
   ],
   "source": [
    "import yfinance as yf\n",
    "import numpy as np\n",
    "#build function to get sector\n",
    "def get_sector(stock):\n",
    "    ticker = yf.Ticker(stock)\n",
    "    tickerInfo = ticker.info\n",
    "    df = tickerInfo\n",
    "    return df['sector']\n",
    "\n",
    "def tickerStore(empty_list,positions):\n",
    "    for Pos in range(0,positions):\n",
    "        store_ticker = str(input(\"Enter ticker here: \"))\n",
    "        store_ticker = store_ticker.upper()\n",
    "        empty_list.append(store_ticker)\n",
    "        \n",
    "numPos = int(input(\"How many different stocks do you have?: \"))\n",
    "sector_list = []\n",
    "ticker_list = []\n",
    "tickerStore(ticker_list,numPos)\n",
    "singular_list = []\n",
    "num_sector_list = []\n",
    "proportion_dict = {}\n",
    "\n",
    "for Pos in range(0,numPos):\n",
    "    sector_list.append(get_sector(ticker_list[Pos]))\n",
    "\n",
    "#turns list of all sectors into a list with one of each, no duplicates\n",
    "for Pos in range(0,numPos):\n",
    "    if sector_list[Pos] not in singular_list:\n",
    "        singular_list.append(sector_list[Pos])\n",
    "#use np.zeros and for loops to count each singular sector in the list of all, to make the math work.\n",
    "percent_counter = np.zeros(len(singular_list))\n",
    "\n",
    "#another np.zeros to store values of the same sector\n",
    "store_same_sector = np.zeros(len(singular_list))\n",
    "\n",
    "for Pos in range(0,numPos):\n",
    "    for sector in range(0,len(singular_list)):\n",
    "        if singular_list[sector] == sector_list[Pos]:\n",
    "            percent_counter[sector] += 1\n",
    "for sector in range(0,len(singular_list)):\n",
    "    percent_counter[sector] /= numPos\n",
    "    \n",
    "#used the dictionary to multiply back\n",
    "for sector in range(0,len(singular_list)):\n",
    "    proportion_dict[singular_list[sector]] = percent_counter[sector]\n",
    "    \n",
    "for sector in range(0,len(sector_list)):\n",
    "    num_sector_list.append(proportion_dict[sector_list[sector]])"
   ]
  },
  {
   "cell_type": "code",
   "execution_count": 2,
   "metadata": {},
   "outputs": [
    {
     "name": "stdout",
     "output_type": "stream",
     "text": [
      "[50.3975, 106.325, 51.08, 63.57]\n",
      "How many shares of V do you have?: 50\n",
      "How many shares of MSFT do you have?: 28\n",
      "How many shares of BA do you have?: 59\n",
      "How many shares of AAPL do you have?: 67\n"
     ]
    }
   ],
   "source": [
    "from datetime import date\n",
    "today = date.today()\n",
    "#date = today.strftime(\"%Y-%m-%d\")\n",
    "date = '2021-01-15'\n",
    "data_list = []\n",
    "listProportion = []\n",
    "empty_list1 = []\n",
    "empty_list2 = []\n",
    "empty_list3 = []\n",
    "amount = 0\n",
    "def get_data(stock):\n",
    "    ticker = yf.Ticker(stock)\n",
    "    tickerPrice = ticker.history(period = '1d', start = date)\n",
    "    df = tickerPrice\n",
    "    return df['Close']\n",
    "\n",
    "for Pos in range(0,numPos):\n",
    "    new_data = get_data(ticker_list[Pos])\n",
    "    add_data = new_data.to_list()\n",
    "    data_list.append(add_data)\n",
    "\n",
    "for stock in range(0,len(data_list)):\n",
    "    listProportion.append(data_list[stock][0] * num_sector_list[stock])\n",
    "print(listProportion)\n",
    "\n",
    "for stock in range(0,len(data_list)):\n",
    "    empty_list1.append(float(input('How many shares of %s do you have?: '%ticker_list[stock])))\n",
    "    empty_list2.append(empty_list1[stock]*listProportion[stock])\n",
    "    amount += empty_list2[stock]\n",
    "\n",
    "for stock in range(0,len(data_list)):\n",
    "    empty_list3.append(100 * empty_list2[stock]/amount)\n"
   ]
  },
  {
   "cell_type": "code",
   "execution_count": 3,
   "metadata": {
    "scrolled": true
   },
   "outputs": [
    {
     "data": {
      "image/png": "[encoded data removed]",
      "text/plain": [
       "<Figure size 432x288 with 1 Axes>"
      ]
     },
     "metadata": {},
     "output_type": "display_data"
    }
   ],
   "source": [
    "import matplotlib.pyplot as plt\n",
    "#plot\n",
    "\n",
    "for sector in range(0,len(singular_list)):\n",
    "    for sec in range(0,len(sector_list)):\n",
    "        if sector_list[sec] == singular_list[sector]:\n",
    "            store_same_sector[sector] += empty_list3[sec]\n",
    "     \n",
    "       \n",
    "labels = singular_list\n",
    "sizes = store_same_sector\n",
    "fig1, ax1 = plt.subplots()\n",
    "ax1.pie(sizes, labels=labels, autopct='%1.1f%%',\n",
    "        shadow=True, startangle=90)\n",
    "ax1.axis('equal')\n",
    "plt.show()"
   ]
  }
 ],
 "metadata": {
  "kernelspec": {
   "display_name": "Python 3",
   "language": "python",
   "name": "python3"
  },
  "language_info": {
   "codemirror_mode": {
    "name": "ipython",
    "version": 3
   },
   "file_extension": ".py",
   "mimetype": "text/x-python",
   "name": "python",
   "nbconvert_exporter": "python",
   "pygments_lexer": "ipython3",
   "version": "3.7.6"
  }
 },
 "nbformat": 4,
 "nbformat_minor": 4
}
